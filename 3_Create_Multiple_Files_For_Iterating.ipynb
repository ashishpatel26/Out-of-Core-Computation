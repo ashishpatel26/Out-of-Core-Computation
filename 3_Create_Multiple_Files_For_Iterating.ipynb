{
 "cells": [
  {
   "cell_type": "markdown",
   "metadata": {},
   "source": [
    "## Description"
   ]
  },
  {
   "cell_type": "code",
   "execution_count": null,
   "metadata": {
    "collapsed": true
   },
   "outputs": [],
   "source": []
  },
  {
   "cell_type": "markdown",
   "metadata": {},
   "source": [
    "## Libraries"
   ]
  },
  {
   "cell_type": "code",
   "execution_count": 1,
   "metadata": {
    "collapsed": true
   },
   "outputs": [],
   "source": [
    "import pandas as pd\n",
    "import numpy as np"
   ]
  },
  {
   "cell_type": "markdown",
   "metadata": {},
   "source": [
    "## Versions"
   ]
  },
  {
   "cell_type": "code",
   "execution_count": 2,
   "metadata": {},
   "outputs": [
    {
     "name": "stdout",
     "output_type": "stream",
     "text": [
      "NumPy version: 1.13.0\n",
      "Pandas version: 0.20.1\n"
     ]
    }
   ],
   "source": [
    "items = [(\"NumPy\", np), (\"Pandas\", pd)]\n",
    "for item in items:\n",
    "    print(item[0] + \" version: \" + str(item[1].__version__))"
   ]
  },
  {
   "cell_type": "markdown",
   "metadata": {},
   "source": [
    "## Get Data"
   ]
  },
  {
   "cell_type": "code",
   "execution_count": 3,
   "metadata": {},
   "outputs": [],
   "source": [
    "path = '/Users/davidziganto/data/'\n",
    "X = pd.read_hdf(path + 'raw_HIGGS_training_data.h5', key='/a')"
   ]
  },
  {
   "cell_type": "markdown",
   "metadata": {},
   "source": [
    "## Create Multiple HDF5 Files (for iterating)"
   ]
  },
  {
   "cell_type": "code",
   "execution_count": 4,
   "metadata": {
    "collapsed": true
   },
   "outputs": [],
   "source": [
    "# Setup\n",
    "num_files = 5\n",
    "split_value = int(X.shape[0]/num_files)\n",
    "path = '/Users/davidziganto/data/for_iterating/raw_HIGGS_training_data_'\n",
    "\n",
    "# Split single file into multiple HDF5 files\n",
    "start, stop = 0, split_value\n",
    "groupkey = ['zero', 'one', 'two', 'three', 'four']\n",
    "for i in range(int(X.shape[0]/split_value)):\n",
    "    filename = path + str(i) + '.h5'\n",
    "    X.iloc[start:stop].to_hdf(filename, \n",
    "                              format='table', \n",
    "                              key='/' + groupkey[i], \n",
    "                              mode='w',\n",
    "                              append=False, \n",
    "                              complevel=9, \n",
    "                              complib='blosc',\n",
    "                              fletcher32=True)\n",
    "    start += split_value\n",
    "    stop += split_value"
   ]
  }
 ],
 "metadata": {
  "kernelspec": {
   "display_name": "py35",
   "language": "python",
   "name": "py35"
  },
  "language_info": {
   "codemirror_mode": {
    "name": "ipython",
    "version": 3
   },
   "file_extension": ".py",
   "mimetype": "text/x-python",
   "name": "python",
   "nbconvert_exporter": "python",
   "pygments_lexer": "ipython3",
   "version": "3.5.3"
  }
 },
 "nbformat": 4,
 "nbformat_minor": 2
}
