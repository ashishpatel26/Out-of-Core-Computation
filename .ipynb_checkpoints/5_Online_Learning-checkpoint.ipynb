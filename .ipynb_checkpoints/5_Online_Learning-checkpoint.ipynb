{
 "cells": [
  {
   "cell_type": "markdown",
   "metadata": {},
   "source": [
    "## Description"
   ]
  },
  {
   "cell_type": "markdown",
   "metadata": {
    "collapsed": true
   },
   "source": [
    "This is the fifth and last notebook documenting a pipelined approach to out-of-core computation using Dask and a Stochastic Gradient Descent classifier available in Scikit-learn. Specifically, it shows how to read in multiple datasets as a single Dask dataframe as well as how to read in a single, potentially too-large-to-fit-into-memory, dataset partitioned for in-memory consumption. Furthermore, this notebook documents an *online_learning()* function that will read the dataset partitions into memory, train the model, and repeat until all partitions have been consumed. Two additional features are included in the function: data standardization and incremental PCA. Also, a print out is included after each epoch to show the average loss as well as the log loss associated with the test set. The latter is purely for example purposes. "
   ]
  },
  {
   "cell_type": "markdown",
   "metadata": {},
   "source": [
    "## Libraries"
   ]
  },
  {
   "cell_type": "code",
   "execution_count": 1,
   "metadata": {
    "collapsed": true
   },
   "outputs": [],
   "source": [
    "%matplotlib inline\n",
    "import pandas as pd\n",
    "import numpy as np\n",
    "import sklearn\n",
    "from sklearn.preprocessing import StandardScaler\n",
    "from sklearn.linear_model import SGDClassifier\n",
    "from sklearn.naive_bayes import BernoulliNB\n",
    "from sklearn.decomposition import IncrementalPCA\n",
    "from sklearn.metrics import log_loss\n",
    "import dask\n",
    "import dask.dataframe as dd\n",
    "import matplotlib\n",
    "import matplotlib.pyplot as plt"
   ]
  },
  {
   "cell_type": "markdown",
   "metadata": {},
   "source": [
    "## Versions"
   ]
  },
  {
   "cell_type": "code",
   "execution_count": 2,
   "metadata": {},
   "outputs": [
    {
     "name": "stdout",
     "output_type": "stream",
     "text": [
      "Dask version: 0.14.3\n",
      "Matplotlib version: 2.0.2\n",
      "Numpy version: 1.13.0\n",
      "Pandas version: 0.20.1\n",
      "Sklearn version: 0.18.1\n"
     ]
    }
   ],
   "source": [
    "items = [(\"Dask\", dask), (\"Matplotlib\", matplotlib), (\"Numpy\", np), (\"Pandas\", pd), (\"Sklearn\", sklearn)]\n",
    "for item in items:\n",
    "    print(item[0] + \" version: \" + str(item[1].__version__))"
   ]
  },
  {
   "cell_type": "markdown",
   "metadata": {},
   "source": [
    "## Get Data"
   ]
  },
  {
   "cell_type": "markdown",
   "metadata": {},
   "source": [
    "#### Test Set"
   ]
  },
  {
   "cell_type": "code",
   "execution_count": 3,
   "metadata": {
    "collapsed": true
   },
   "outputs": [],
   "source": [
    "path = '/Users/davidziganto/data/'\n",
    "\n",
    "X_test = pd.read_hdf(path + 'raw_HIGGS_test_data.h5', key='/a')\n",
    "y_test = X_test.pop('label')"
   ]
  },
  {
   "cell_type": "markdown",
   "metadata": {},
   "source": [
    "#### Training Set w/Dask\n",
    "You can either read in multiple files or read in a single large file. Both implementations are included below. Please note that reading in multiple files has been commented out for the time being. "
   ]
  },
  {
   "cell_type": "code",
   "execution_count": 4,
   "metadata": {
    "collapsed": true
   },
   "outputs": [],
   "source": [
    "# Multiple files\n",
    "#df = dd.read_hdf(path + 'for_iterating/*.h5', key='/*')\n",
    "\n",
    "# Single large file\n",
    "df = dd.read_hdf(path + 'raw_HIGGS_training_data.h5', key='/a')"
   ]
  },
  {
   "cell_type": "markdown",
   "metadata": {},
   "source": [
    "#### Dask Dict"
   ]
  },
  {
   "cell_type": "code",
   "execution_count": 5,
   "metadata": {
    "collapsed": true
   },
   "outputs": [],
   "source": [
    "# create dictionary for online_learning function where the key i  \n",
    "# is the partition index and the value is the partition data\n",
    "dask_dict = {i: df.get_partition(i) for i in range(df.npartitions)}"
   ]
  },
  {
   "cell_type": "markdown",
   "metadata": {},
   "source": [
    "## Online Learning"
   ]
  },
  {
   "cell_type": "markdown",
   "metadata": {},
   "source": [
    "#### Mini-Batch (by partition)"
   ]
  },
  {
   "cell_type": "code",
   "execution_count": 6,
   "metadata": {
    "collapsed": true
   },
   "outputs": [],
   "source": [
    "def online_learning(dask_dict, num_classes, model='lr', std_scale=0, pca=0):\n",
    "    '''\n",
    "    Inputs:\n",
    "        dask_dict: dictionary of index as key and dask partition data as value\n",
    "        num_classes: int denoting total number of classes present in target variable\n",
    "        model: string denoting which model to use, 'lr' for logistic regression or 'nb' for naive bayes\n",
    "        std_scale: flag variable (0,1) allowing user to turn on/off StandardScaler\n",
    "        pca: flag variable (0,1) allowing user to turn on/off Incremental PCA\n",
    "    Output:\n",
    "        logloss: list of logloss values achieved during each iteration\n",
    "    '''\n",
    "    # Instantiate Models\n",
    "    if model == 'nb':\n",
    "        model = BernoulliNB(alpha=1.0, binarize=0.0, fit_prior=True, class_prior=None)\n",
    "    elif model == 'lr':\n",
    "        model = SGDClassifier(loss='log', \n",
    "                              penalty='elasticnet', \n",
    "                              alpha=0.01, \n",
    "                              l1_ratio=0.5,\n",
    "                              fit_intercept=True, \n",
    "                              n_iter=1, \n",
    "                              shuffle=True, \n",
    "                              verbose=1, \n",
    "                              epsilon=None,\n",
    "                              n_jobs=-1, \n",
    "                              random_state=123,\n",
    "                              learning_rate='optimal',\n",
    "                              eta0=0.0, \n",
    "                              power_t=0.5,\n",
    "                              class_weight=None,\n",
    "                              warm_start=False, \n",
    "                              average=True)\n",
    "    else:\n",
    "        raise Exception('Choose either \"lr\" or \"nb\" for model')\n",
    "        \n",
    "    # Setup\n",
    "    logloss = []\n",
    "    ss = StandardScaler()\n",
    "    ipca = IncrementalPCA(n_components=5, whiten=True, copy=True, batch_size=None)\n",
    "    counter, max_k = 0, max(dask_dict.keys())  ## for progress updates (partition numbers)\n",
    "    for k,v in dask_dict.items():\n",
    "        X_train = df.loc[:, v.columns != 'label']\n",
    "        y_train = df.loc[:, 'label']\n",
    "        if std_scale==0 and pca==0:\n",
    "            model.partial_fit(X_train, y_train, classes=range(num_classes))\n",
    "            proba = model.predict_proba(X_test)\n",
    "            logloss.append(log_loss(y_test, proba))\n",
    "            print('Test log loss: %.4f' % log_loss(y_test, proba))\n",
    "            print('Partition {0}/{1}\\n'.format(counter, max_k))\n",
    "        elif std_scale and pca==0:\n",
    "            ss.partial_fit(X_train)\n",
    "            model.partial_fit(ss.transform(X_train), y_train, classes=range(num_classes))\n",
    "            proba = model.predict_proba(ss.transform(X_test))\n",
    "            logloss.append(log_loss(y_test, proba))\n",
    "            print('Test log loss: %.4f' % log_loss(y_test, proba))\n",
    "            print('Partition {0}/{1}\\n'.format(counter, max_k))\n",
    "        elif std_scale==0 and pca:\n",
    "            raise Exception('You have to set std_scale=1 for PCA to work')\n",
    "        else: \n",
    "            ss.partial_fit(X_train)\n",
    "            ipca.partial_fit(ss.transform(X_train))\n",
    "            model.partial_fit(ipca.transform(X_train), y_train, classes=range(num_classes))\n",
    "            proba = model.predict_proba(ipca.transform(ss.transform(X_test)))\n",
    "            logloss.append(log_loss(y_test, proba))\n",
    "            print('Test log loss: %.4f' % log_loss(y_test, proba))\n",
    "            print('Partition {0}/{1}\\n'.format(counter, max_k))\n",
    "        counter += 1\n",
    "    return logloss"
   ]
  },
  {
   "cell_type": "markdown",
   "metadata": {},
   "source": [
    "#### Logistic Regression"
   ]
  },
  {
   "cell_type": "code",
   "execution_count": 7,
   "metadata": {},
   "outputs": [
    {
     "name": "stdout",
     "output_type": "stream",
     "text": [
      "-- Epoch 1\n",
      "Norm: 1.84, NNZs: 13, Bias: 0.857026, T: 8800000, Avg. loss: 0.657463\n",
      "Total training time: 4.56 seconds.\n",
      "Test log loss: 1.7263\n",
      "Partition 0/8\n",
      "\n",
      "-- Epoch 1\n",
      "Norm: 1.51, NNZs: 13, Bias: 0.337222, T: 8800000, Avg. loss: 0.657255\n",
      "Total training time: 5.52 seconds.\n",
      "Test log loss: 1.1245\n",
      "Partition 1/8\n",
      "\n",
      "-- Epoch 1\n",
      "Norm: 1.38, NNZs: 13, Bias: 0.205357, T: 8800000, Avg. loss: 0.656833\n",
      "Total training time: 4.59 seconds.\n",
      "Test log loss: 0.9294\n",
      "Partition 2/8\n",
      "\n",
      "-- Epoch 1\n",
      "Norm: 1.30, NNZs: 13, Bias: 0.146436, T: 8800000, Avg. loss: 0.656668\n",
      "Total training time: 4.59 seconds.\n",
      "Test log loss: 0.8390\n",
      "Partition 3/8\n",
      "\n",
      "-- Epoch 1\n",
      "Norm: 1.25, NNZs: 13, Bias: 0.113652, T: 8800000, Avg. loss: 0.656576\n",
      "Total training time: 8.45 seconds.\n",
      "Test log loss: 0.7890\n",
      "Partition 4/8\n",
      "\n",
      "-- Epoch 1\n",
      "Norm: 1.22, NNZs: 13, Bias: 0.092849, T: 8800000, Avg. loss: 0.656518\n",
      "Total training time: 6.64 seconds.\n",
      "Test log loss: 0.7582\n",
      "Partition 5/8\n",
      "\n",
      "-- Epoch 1\n",
      "Norm: 1.19, NNZs: 13, Bias: 0.078484, T: 8800000, Avg. loss: 0.656478\n",
      "Total training time: 4.60 seconds.\n",
      "Test log loss: 0.7377\n",
      "Partition 6/8\n",
      "\n",
      "-- Epoch 1\n",
      "Norm: 1.17, NNZs: 13, Bias: 0.067969, T: 8800000, Avg. loss: 0.656449\n",
      "Total training time: 6.73 seconds.\n",
      "Test log loss: 0.7234\n",
      "Partition 7/8\n",
      "\n",
      "-- Epoch 1\n",
      "Norm: 1.16, NNZs: 13, Bias: 0.059940, T: 8800000, Avg. loss: 0.656427\n",
      "Total training time: 8.11 seconds.\n",
      "Test log loss: 0.7128\n",
      "Partition 8/8\n",
      "\n"
     ]
    }
   ],
   "source": [
    "# this baseline online logistic regression model uses the partial_fit method but no data standardization or PCA\n",
    "baseline = online_learning(dask_dict, num_classes=2, model='lr', std_scale=0, pca=0)"
   ]
  },
  {
   "cell_type": "code",
   "execution_count": 8,
   "metadata": {},
   "outputs": [
    {
     "name": "stdout",
     "output_type": "stream",
     "text": [
      "-- Epoch 1\n",
      "Norm: 1.82, NNZs: 14, Bias: 0.122603, T: 8800000, Avg. loss: 0.643216\n",
      "Total training time: 4.62 seconds.\n",
      "Test log loss: 1.7780\n",
      "Partition 0/8\n",
      "\n",
      "-- Epoch 1\n",
      "Norm: 1.42, NNZs: 16, Bias: 0.122899, T: 8800000, Avg. loss: 0.642775\n",
      "Total training time: 8.04 seconds.\n",
      "Test log loss: 1.1517\n",
      "Partition 1/8\n",
      "\n",
      "-- Epoch 1\n",
      "Norm: 1.27, NNZs: 16, Bias: 0.122549, T: 8800000, Avg. loss: 0.642780\n",
      "Total training time: 6.34 seconds.\n",
      "Test log loss: 0.9437\n",
      "Partition 2/8\n",
      "\n",
      "-- Epoch 1\n",
      "Norm: 1.18, NNZs: 16, Bias: 0.122073, T: 8800000, Avg. loss: 0.642815\n",
      "Total training time: 7.09 seconds.\n",
      "Test log loss: 0.8455\n",
      "Partition 3/8\n",
      "\n",
      "-- Epoch 1\n",
      "Norm: 1.13, NNZs: 16, Bias: 0.121285, T: 8800000, Avg. loss: 0.642851\n",
      "Total training time: 7.30 seconds.\n",
      "Test log loss: 0.7907\n",
      "Partition 4/8\n",
      "\n",
      "-- Epoch 1\n",
      "Norm: 1.09, NNZs: 16, Bias: 0.120023, T: 8800000, Avg. loss: 0.642886\n",
      "Total training time: 4.53 seconds.\n",
      "Test log loss: 0.7566\n",
      "Partition 5/8\n",
      "\n",
      "-- Epoch 1\n",
      "Norm: 1.06, NNZs: 16, Bias: 0.118271, T: 8800000, Avg. loss: 0.642922\n",
      "Total training time: 7.38 seconds.\n",
      "Test log loss: 0.7339\n",
      "Partition 6/8\n",
      "\n",
      "-- Epoch 1\n",
      "Norm: 1.04, NNZs: 16, Bias: 0.116107, T: 8800000, Avg. loss: 0.642958\n",
      "Total training time: 7.31 seconds.\n",
      "Test log loss: 0.7179\n",
      "Partition 7/8\n",
      "\n",
      "-- Epoch 1\n",
      "Norm: 1.02, NNZs: 16, Bias: 0.113638, T: 8800000, Avg. loss: 0.642993\n",
      "Total training time: 4.53 seconds.\n",
      "Test log loss: 0.7061\n",
      "Partition 8/8\n",
      "\n"
     ]
    }
   ],
   "source": [
    "# this online logistic regression model uses the partial_fit method and data standardization but no PCA\n",
    "std = online_learning(dask_dict, num_classes=2, std_scale=1, pca=0)"
   ]
  },
  {
   "cell_type": "code",
   "execution_count": 9,
   "metadata": {},
   "outputs": [
    {
     "name": "stdout",
     "output_type": "stream",
     "text": [
      "-- Epoch 1\n",
      "Norm: 0.53, NNZs: 3, Bias: 0.301206, T: 8800000, Avg. loss: 0.688450\n",
      "Total training time: 2.43 seconds.\n",
      "Test log loss: 1.0876\n",
      "Partition 0/8\n",
      "\n",
      "-- Epoch 1\n",
      "Norm: 0.32, NNZs: 3, Bias: 0.214549, T: 8800000, Avg. loss: 0.689062\n",
      "Total training time: 2.41 seconds.\n",
      "Test log loss: 0.8562\n",
      "Partition 1/8\n",
      "\n",
      "-- Epoch 1\n",
      "Norm: 0.25, NNZs: 3, Bias: 0.156985, T: 8800000, Avg. loss: 0.689325\n",
      "Total training time: 2.46 seconds.\n",
      "Test log loss: 0.7869\n",
      "Partition 2/8\n",
      "\n",
      "-- Epoch 1\n",
      "Norm: 0.22, NNZs: 2, Bias: 0.122811, T: 8800000, Avg. loss: 0.689432\n",
      "Total training time: 2.45 seconds.\n",
      "Test log loss: 0.7563\n",
      "Partition 3/8\n",
      "\n",
      "-- Epoch 1\n",
      "Norm: 0.21, NNZs: 2, Bias: 0.121514, T: 8800000, Avg. loss: 0.689477\n",
      "Total training time: 2.45 seconds.\n",
      "Test log loss: 0.7387\n",
      "Partition 4/8\n",
      "\n",
      "-- Epoch 1\n",
      "Norm: 0.19, NNZs: 2, Bias: 0.119377, T: 8800000, Avg. loss: 0.689518\n",
      "Total training time: 2.67 seconds.\n",
      "Test log loss: 0.7275\n",
      "Partition 5/8\n",
      "\n",
      "-- Epoch 1\n",
      "Norm: 0.19, NNZs: 2, Bias: 0.116294, T: 8800000, Avg. loss: 0.689559\n",
      "Total training time: 2.39 seconds.\n",
      "Test log loss: 0.7199\n",
      "Partition 6/8\n",
      "\n",
      "-- Epoch 1\n",
      "Norm: 0.18, NNZs: 2, Bias: 0.112207, T: 8800000, Avg. loss: 0.689600\n",
      "Total training time: 2.42 seconds.\n",
      "Test log loss: 0.7144\n",
      "Partition 7/8\n",
      "\n",
      "-- Epoch 1\n",
      "Norm: 0.17, NNZs: 2, Bias: 0.107422, T: 8800000, Avg. loss: 0.689639\n",
      "Total training time: 2.32 seconds.\n",
      "Test log loss: 0.7103\n",
      "Partition 8/8\n",
      "\n"
     ]
    }
   ],
   "source": [
    "# this online logistic regression model uses the partial_fit method, data standardization, \n",
    "# and PCA w/whitening (number of components set to 5 but can change in function above)\n",
    "pca = online_learning(dask_dict, num_classes=2, model='lr', std_scale=1, pca=1)"
   ]
  },
  {
   "cell_type": "markdown",
   "metadata": {},
   "source": [
    "#### Naive Bayes"
   ]
  },
  {
   "cell_type": "code",
   "execution_count": 10,
   "metadata": {},
   "outputs": [
    {
     "name": "stdout",
     "output_type": "stream",
     "text": [
      "Test log loss: 0.6895\n",
      "Partition 0/8\n",
      "\n",
      "Test log loss: 0.6895\n",
      "Partition 1/8\n",
      "\n",
      "Test log loss: 0.6895\n",
      "Partition 2/8\n",
      "\n",
      "Test log loss: 0.6895\n",
      "Partition 3/8\n",
      "\n",
      "Test log loss: 0.6895\n",
      "Partition 4/8\n",
      "\n",
      "Test log loss: 0.6895\n",
      "Partition 5/8\n",
      "\n",
      "Test log loss: 0.6895\n",
      "Partition 6/8\n",
      "\n",
      "Test log loss: 0.6895\n",
      "Partition 7/8\n",
      "\n",
      "Test log loss: 0.6895\n",
      "Partition 8/8\n",
      "\n"
     ]
    }
   ],
   "source": [
    "# this model is an example of an online naive bayes model without data standardization or PCA\n",
    "nb_ = online_learning(dask_dict, num_classes=2, model='nb', std_scale=0, pca=0)"
   ]
  },
  {
   "cell_type": "markdown",
   "metadata": {},
   "source": [
    "## Plot Log Loss on Test Set\n",
    "The **plot_function()** below is used to compare log loss on the test set for the different approaches: baseline, with data standardization, and with PCA."
   ]
  },
  {
   "cell_type": "code",
   "execution_count": 11,
   "metadata": {
    "collapsed": true
   },
   "outputs": [],
   "source": [
    "def plot_function(log_loss_dict):\n",
    "    '''\n",
    "    Input:\n",
    "        log_loss_dict: a dictionary where the key is a name and the values are log loss values by iteration\n",
    "    Output:\n",
    "        plot with labeled axes and title showing difference between baseline, StandardScaler, and PCA approaches\n",
    "    '''\n",
    "    colors = ('darkred', 'darkblue', 'darkgreen', 'darkorange')\n",
    "    num_keys = len(log_loss_dict.keys())\n",
    "    counter, legend = 0, []\n",
    "    for k,v in log_loss_dict.items():\n",
    "        plt.plot(range(len(v)), v, '.-', color=colors[counter])\n",
    "        counter +=1\n",
    "        legend.append(k)\n",
    "    plt.xlabel('iteration #')\n",
    "    plt.ylabel('log loss value (test set)')\n",
    "    plt.title('log loss vs iteration #')\n",
    "    plt.legend(legend)"
   ]
  },
  {
   "cell_type": "code",
   "execution_count": 12,
   "metadata": {
    "collapsed": true
   },
   "outputs": [],
   "source": [
    "log_loss_dict = {'baseline lr':baseline, 'std lr':std, 'pca lr':pca, 'naive bayes':nb_}"
   ]
  },
  {
   "cell_type": "code",
   "execution_count": 13,
   "metadata": {},
   "outputs": [
    {
     "data": {
      "image/png": "[encoded data removed]",
      "text/plain": [
       "<matplotlib.figure.Figure at 0x130d39320>"
      ]
     },
     "metadata": {},
     "output_type": "display_data"
    }
   ],
   "source": [
    "plot_function(log_loss_dict)"
   ]
  }
 ],
 "metadata": {
  "kernelspec": {
   "display_name": "py35",
   "language": "python",
   "name": "py35"
  },
  "language_info": {
   "codemirror_mode": {
    "name": "ipython",
    "version": 3
   },
   "file_extension": ".py",
   "mimetype": "text/x-python",
   "name": "python",
   "nbconvert_exporter": "python",
   "pygments_lexer": "ipython3",
   "version": "3.5.3"
  }
 },
 "nbformat": 4,
 "nbformat_minor": 2
}
