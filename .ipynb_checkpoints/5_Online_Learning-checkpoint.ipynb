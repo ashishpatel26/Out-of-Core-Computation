{
 "cells": [
  {
   "cell_type": "markdown",
   "metadata": {},
   "source": [
    "## Description"
   ]
  },
  {
   "cell_type": "markdown",
   "metadata": {
    "collapsed": true
   },
   "source": [
    "This is the fifth and last notebook documenting a pipelined approach to out-of-core computation using Dask and a Stochastic Gradient Descent classifier available in Scikit-learn. Specifically, it shows how to read in multiple datasets as a single Dask dataframe as well as how to read in a single, potentially too-large-to-fit-into-memory, dataset partitioned for in-memory consumption. Furthermore, this notebook documents an *online_learning()* function that will read the dataset partitions into memory, train the model, and repeat until all partitions have been consumed. Two additional features are included in the function: data standardization and incremental PCA. Also, a print out is included after each epoch to show the average loss as well as the log loss associated with the test set. The latter is purely for example purposes. "
   ]
  },
  {
   "cell_type": "markdown",
   "metadata": {},
   "source": [
    "## Libraries"
   ]
  },
  {
   "cell_type": "code",
   "execution_count": 1,
   "metadata": {
    "collapsed": true
   },
   "outputs": [],
   "source": [
    "%matplotlib inline\n",
    "import pandas as pd\n",
    "import numpy as np\n",
    "import sklearn\n",
    "from sklearn.preprocessing import StandardScaler\n",
    "from sklearn.linear_model import SGDClassifier\n",
    "from sklearn.naive_bayes import BernoulliNB\n",
    "from sklearn.decomposition import IncrementalPCA\n",
    "from sklearn.metrics import log_loss\n",
    "import dask\n",
    "import dask.dataframe as dd\n",
    "import matplotlib\n",
    "import matplotlib.pyplot as plt"
   ]
  },
  {
   "cell_type": "markdown",
   "metadata": {},
   "source": [
    "## Versions"
   ]
  },
  {
   "cell_type": "code",
   "execution_count": 2,
   "metadata": {},
   "outputs": [
    {
     "name": "stdout",
     "output_type": "stream",
     "text": [
      "Dask version: 0.14.3\n",
      "Matplotlib version: 2.0.2\n",
      "Numpy version: 1.13.0\n",
      "Pandas version: 0.20.1\n",
      "Sklearn version: 0.18.1\n"
     ]
    }
   ],
   "source": [
    "items = [(\"Dask\", dask), (\"Matplotlib\", matplotlib), (\"Numpy\", np), (\"Pandas\", pd), (\"Sklearn\", sklearn)]\n",
    "for item in items:\n",
    "    print(item[0] + \" version: \" + str(item[1].__version__))"
   ]
  },
  {
   "cell_type": "markdown",
   "metadata": {},
   "source": [
    "## Get Data"
   ]
  },
  {
   "cell_type": "markdown",
   "metadata": {},
   "source": [
    "#### Test Set"
   ]
  },
  {
   "cell_type": "code",
   "execution_count": 3,
   "metadata": {
    "collapsed": true
   },
   "outputs": [],
   "source": [
    "path = '/Users/davidziganto/data/'\n",
    "\n",
    "X_test = pd.read_hdf(path + 'raw_HIGGS_test_data.h5', key='/a')\n",
    "y_test = X_test.pop('label')"
   ]
  },
  {
   "cell_type": "markdown",
   "metadata": {},
   "source": [
    "#### Training Set w/Dask\n",
    "You can either read in multiple files or read in a single large file. Both implementations are included below. A wild card is used to read in multiple files. Also, please note that reading in multiple files has been commented out for the time being. "
   ]
  },
  {
   "cell_type": "code",
   "execution_count": 4,
   "metadata": {
    "collapsed": true
   },
   "outputs": [],
   "source": [
    "# Multiple files\n",
    "#df = dd.read_hdf(path + 'for_iterating/*.h5', key='/*')\n",
    "\n",
    "# Single large file\n",
    "df = dd.read_hdf(path + 'raw_HIGGS_training_data.h5', key='/a')"
   ]
  },
  {
   "cell_type": "markdown",
   "metadata": {},
   "source": [
    "#### Dask Dict"
   ]
  },
  {
   "cell_type": "code",
   "execution_count": 5,
   "metadata": {
    "collapsed": true
   },
   "outputs": [],
   "source": [
    "# create dictionary for online_learning function where the key i  \n",
    "# is the partition index and the value is the partition data\n",
    "dask_dict = {i: df.get_partition(i) for i in range(df.npartitions)}"
   ]
  },
  {
   "cell_type": "markdown",
   "metadata": {},
   "source": [
    "## Online Learning"
   ]
  },
  {
   "cell_type": "markdown",
   "metadata": {},
   "source": [
    "#### Mini-Batch (by partition)\n",
    "Assumes your dataframe has the target variable labeled as **label**. Either change your variable name or update the code below accordingly if your target variable is named something else."
   ]
  },
  {
   "cell_type": "code",
   "execution_count": 6,
   "metadata": {
    "collapsed": true
   },
   "outputs": [],
   "source": [
    "def online_learning(dask_dict, num_classes, model='lr', std_scale=0, pca=0):\n",
    "    '''\n",
    "    Inputs:\n",
    "        dask_dict: dictionary of index as key and dask partition data as value\n",
    "        num_classes: int denoting total number of classes present in target variable\n",
    "        model: string denoting which model to use, 'lr' for logistic regression or 'nb' for naive bayes\n",
    "        std_scale: flag variable (0,1) allowing user to turn on/off StandardScaler\n",
    "        pca: flag variable (0,1) allowing user to turn on/off Incremental PCA\n",
    "    Output:\n",
    "        logloss: list of logloss values for each iteration\n",
    "    '''\n",
    "    # Instantiate Models\n",
    "    if model == 'nb':\n",
    "        model = BernoulliNB(alpha=1.0, binarize=0.0, fit_prior=True, class_prior=None)\n",
    "    elif model == 'lr':\n",
    "        model = SGDClassifier(loss='log', \n",
    "                              penalty='elasticnet', \n",
    "                              alpha=0.01, \n",
    "                              l1_ratio=0.5,\n",
    "                              fit_intercept=True, \n",
    "                              n_iter=1, \n",
    "                              shuffle=True, \n",
    "                              verbose=1, \n",
    "                              epsilon=None,\n",
    "                              n_jobs=-1, \n",
    "                              random_state=123,\n",
    "                              learning_rate='optimal',\n",
    "                              eta0=0.0, \n",
    "                              power_t=0.5,\n",
    "                              class_weight=None,\n",
    "                              warm_start=False, \n",
    "                              average=True)\n",
    "    else:\n",
    "        raise Exception('Choose either \"lr\" or \"nb\" for model')\n",
    "        \n",
    "    # Setup\n",
    "    logloss = []\n",
    "    ss = StandardScaler()\n",
    "    ipca = IncrementalPCA(n_components=5, whiten=True, copy=True, batch_size=None)\n",
    "    counter, max_k = 0, max(dask_dict.keys())  ## for progress updates (partition numbers)\n",
    "    for k,v in dask_dict.items():\n",
    "        X_train = v.loc[:, v.columns != 'label']\n",
    "        y_train = v.loc[:, 'label']\n",
    "        # no std_scale and no PCA\n",
    "        if std_scale==0 and pca==0:\n",
    "            model.partial_fit(X_train, y_train, classes=range(num_classes))\n",
    "            proba = model.predict_proba(X_test)\n",
    "            logloss.append(log_loss(y_test, proba))\n",
    "            print('Test log loss: %.4f' % log_loss(y_test, proba))\n",
    "            print('Partition {0}/{1}\\n'.format(counter, max_k))\n",
    "        # std_scale only\n",
    "        elif std_scale and pca==0:\n",
    "            ss.partial_fit(X_train)\n",
    "            model.partial_fit(ss.transform(X_train), y_train, classes=range(num_classes))\n",
    "            proba = model.predict_proba(ss.transform(X_test))\n",
    "            logloss.append(log_loss(y_test, proba))\n",
    "            print('Test log loss: %.4f' % log_loss(y_test, proba))\n",
    "            print('Partition {0}/{1}\\n'.format(counter, max_k))\n",
    "        # throw error if PCA w/out std_scale\n",
    "        elif std_scale==0 and pca:\n",
    "            raise Exception('You have to set std_scale=1 for PCA to work')\n",
    "        # std_scale and PCA\n",
    "        else: \n",
    "            ss.partial_fit(X_train)\n",
    "            ipca.partial_fit(ss.transform(X_train))\n",
    "            model.partial_fit(ipca.transform(X_train), y_train, classes=range(num_classes))\n",
    "            proba = model.predict_proba(ipca.transform(ss.transform(X_test)))\n",
    "            logloss.append(log_loss(y_test, proba))\n",
    "            print('Test log loss: %.4f' % log_loss(y_test, proba))\n",
    "            print('Partition {0}/{1}\\n'.format(counter, max_k))\n",
    "        counter += 1\n",
    "    return logloss"
   ]
  },
  {
   "cell_type": "markdown",
   "metadata": {},
   "source": [
    "#### Logistic Regression"
   ]
  },
  {
   "cell_type": "code",
   "execution_count": 7,
   "metadata": {},
   "outputs": [
    {
     "name": "stdout",
     "output_type": "stream",
     "text": [
      "-- Epoch 1\n",
      "Norm: 1.98, NNZs: 14, Bias: 0.864589, T: 1000000, Avg. loss: 0.658910\n",
      "Total training time: 0.46 seconds.\n",
      "Test log loss: 1.5361\n",
      "Partition 0/8\n",
      "\n",
      "-- Epoch 1\n",
      "Norm: 1.53, NNZs: 13, Bias: 0.336160, T: 1000000, Avg. loss: 0.656803\n",
      "Total training time: 0.59 seconds.\n",
      "Test log loss: 1.0435\n",
      "Partition 1/8\n",
      "\n",
      "-- Epoch 1\n",
      "Norm: 1.39, NNZs: 13, Bias: 0.208616, T: 1000000, Avg. loss: 0.656717\n",
      "Total training time: 0.52 seconds.\n",
      "Test log loss: 0.8831\n",
      "Partition 2/8\n",
      "\n",
      "-- Epoch 1\n",
      "Norm: 1.31, NNZs: 13, Bias: 0.146599, T: 1000000, Avg. loss: 0.656523\n",
      "Total training time: 0.51 seconds.\n",
      "Test log loss: 0.8089\n",
      "Partition 3/8\n",
      "\n",
      "-- Epoch 1\n",
      "Norm: 1.26, NNZs: 13, Bias: 0.113893, T: 1000000, Avg. loss: 0.656801\n",
      "Total training time: 0.52 seconds.\n",
      "Test log loss: 0.7680\n",
      "Partition 4/8\n",
      "\n",
      "-- Epoch 1\n",
      "Norm: 1.22, NNZs: 13, Bias: 0.091540, T: 1000000, Avg. loss: 0.656381\n",
      "Total training time: 0.50 seconds.\n",
      "Test log loss: 0.7426\n",
      "Partition 5/8\n",
      "\n",
      "-- Epoch 1\n",
      "Norm: 1.20, NNZs: 13, Bias: 0.078037, T: 1000000, Avg. loss: 0.656267\n",
      "Total training time: 0.50 seconds.\n",
      "Test log loss: 0.7256\n",
      "Partition 6/8\n",
      "\n",
      "-- Epoch 1\n",
      "Norm: 1.18, NNZs: 12, Bias: 0.067919, T: 1000000, Avg. loss: 0.656326\n",
      "Total training time: 0.48 seconds.\n",
      "Test log loss: 0.7136\n",
      "Partition 7/8\n",
      "\n",
      "-- Epoch 1\n",
      "Norm: 1.14, NNZs: 12, Bias: 0.048678, T: 800000, Avg. loss: 0.656543\n",
      "Total training time: 0.40 seconds.\n",
      "Test log loss: 0.7061\n",
      "Partition 8/8\n",
      "\n",
      "CPU times: user 37.4 s, sys: 9.22 s, total: 46.6 s\n",
      "Wall time: 46.4 s\n"
     ]
    }
   ],
   "source": [
    "# this baseline online logistic regression model uses the partial_fit method but no data standardization or PCA\n",
    "%time baseline = online_learning(dask_dict, num_classes=2, model='lr', std_scale=0, pca=0)"
   ]
  },
  {
   "cell_type": "code",
   "execution_count": 8,
   "metadata": {},
   "outputs": [
    {
     "name": "stdout",
     "output_type": "stream",
     "text": [
      "-- Epoch 1\n",
      "Norm: 1.91, NNZs: 15, Bias: 0.115434, T: 1000000, Avg. loss: 0.644589\n",
      "Total training time: 0.50 seconds.\n",
      "Test log loss: 1.7554\n",
      "Partition 0/8\n",
      "\n",
      "-- Epoch 1\n",
      "Norm: 1.43, NNZs: 16, Bias: 0.118859, T: 1000000, Avg. loss: 0.642544\n",
      "Total training time: 0.48 seconds.\n",
      "Test log loss: 1.1402\n",
      "Partition 1/8\n",
      "\n",
      "-- Epoch 1\n",
      "Norm: 1.27, NNZs: 16, Bias: 0.123690, T: 1000000, Avg. loss: 0.642815\n",
      "Total training time: 0.51 seconds.\n",
      "Test log loss: 0.9366\n",
      "Partition 2/8\n",
      "\n",
      "-- Epoch 1\n",
      "Norm: 1.18, NNZs: 16, Bias: 0.119004, T: 1000000, Avg. loss: 0.642687\n",
      "Total training time: 0.50 seconds.\n",
      "Test log loss: 0.8406\n",
      "Partition 3/8\n",
      "\n",
      "-- Epoch 1\n",
      "Norm: 1.12, NNZs: 16, Bias: 0.119333, T: 1000000, Avg. loss: 0.643305\n",
      "Total training time: 0.52 seconds.\n",
      "Test log loss: 0.7870\n",
      "Partition 4/8\n",
      "\n",
      "-- Epoch 1\n",
      "Norm: 1.09, NNZs: 16, Bias: 0.119163, T: 1000000, Avg. loss: 0.642879\n",
      "Total training time: 0.46 seconds.\n",
      "Test log loss: 0.7537\n",
      "Partition 5/8\n",
      "\n",
      "-- Epoch 1\n",
      "Norm: 1.06, NNZs: 16, Bias: 0.119163, T: 1000000, Avg. loss: 0.642784\n",
      "Total training time: 0.47 seconds.\n",
      "Test log loss: 0.7316\n",
      "Partition 6/8\n",
      "\n",
      "-- Epoch 1\n",
      "Norm: 1.04, NNZs: 16, Bias: 0.114610, T: 1000000, Avg. loss: 0.642845\n",
      "Total training time: 0.45 seconds.\n",
      "Test log loss: 0.7160\n",
      "Partition 7/8\n",
      "\n",
      "-- Epoch 1\n",
      "Norm: 1.00, NNZs: 16, Bias: 0.105006, T: 800000, Avg. loss: 0.643270\n",
      "Total training time: 0.36 seconds.\n",
      "Test log loss: 0.7063\n",
      "Partition 8/8\n",
      "\n",
      "CPU times: user 47.5 s, sys: 16.2 s, total: 1min 3s\n",
      "Wall time: 1min 3s\n"
     ]
    }
   ],
   "source": [
    "# this online logistic regression model uses the partial_fit method and data standardization but no PCA\n",
    "%time std = online_learning(dask_dict, num_classes=2, std_scale=1, pca=0)"
   ]
  },
  {
   "cell_type": "code",
   "execution_count": 9,
   "metadata": {},
   "outputs": [
    {
     "name": "stdout",
     "output_type": "stream",
     "text": [
      "-- Epoch 1\n",
      "Norm: 0.59, NNZs: 3, Bias: 0.305601, T: 1000000, Avg. loss: 0.688785\n",
      "Total training time: 0.24 seconds.\n",
      "Test log loss: 1.1795\n",
      "Partition 0/8\n",
      "\n",
      "-- Epoch 1\n",
      "Norm: 0.33, NNZs: 3, Bias: 0.214919, T: 1000000, Avg. loss: 0.689126\n",
      "Total training time: 0.24 seconds.\n",
      "Test log loss: 0.8899\n",
      "Partition 1/8\n",
      "\n",
      "-- Epoch 1\n",
      "Norm: 0.25, NNZs: 3, Bias: 0.160438, T: 1000000, Avg. loss: 0.689267\n",
      "Total training time: 0.24 seconds.\n",
      "Test log loss: 0.8045\n",
      "Partition 2/8\n",
      "\n",
      "-- Epoch 1\n",
      "Norm: 0.22, NNZs: 3, Bias: 0.120128, T: 1000000, Avg. loss: 0.689477\n",
      "Total training time: 0.24 seconds.\n",
      "Test log loss: 0.7672\n",
      "Partition 3/8\n",
      "\n",
      "-- Epoch 1\n",
      "Norm: 0.21, NNZs: 2, Bias: 0.118554, T: 1000000, Avg. loss: 0.689587\n",
      "Total training time: 0.24 seconds.\n",
      "Test log loss: 0.7462\n",
      "Partition 4/8\n",
      "\n",
      "-- Epoch 1\n",
      "Norm: 0.20, NNZs: 2, Bias: 0.117552, T: 1000000, Avg. loss: 0.689502\n",
      "Total training time: 0.24 seconds.\n",
      "Test log loss: 0.7330\n",
      "Partition 5/8\n",
      "\n",
      "-- Epoch 1\n",
      "Norm: 0.18, NNZs: 2, Bias: 0.117196, T: 1000000, Avg. loss: 0.689593\n",
      "Total training time: 0.24 seconds.\n",
      "Test log loss: 0.7241\n",
      "Partition 6/8\n",
      "\n",
      "-- Epoch 1\n",
      "Norm: 0.18, NNZs: 2, Bias: 0.111428, T: 1000000, Avg. loss: 0.689568\n",
      "Total training time: 0.24 seconds.\n",
      "Test log loss: 0.7178\n",
      "Partition 7/8\n",
      "\n",
      "-- Epoch 1\n",
      "Norm: 0.17, NNZs: 2, Bias: 0.092640, T: 800000, Avg. loss: 0.689800\n",
      "Total training time: 0.18 seconds.\n",
      "Test log loss: 0.7139\n",
      "Partition 8/8\n",
      "\n",
      "CPU times: user 1min 20s, sys: 28.9 s, total: 1min 49s\n",
      "Wall time: 1min 31s\n"
     ]
    }
   ],
   "source": [
    "# this online logistic regression model uses the partial_fit method, data standardization, \n",
    "# and PCA w/whitening (number of components set to 5 but can change in function above)\n",
    "%time pca = online_learning(dask_dict, num_classes=2, model='lr', std_scale=1, pca=1)"
   ]
  },
  {
   "cell_type": "markdown",
   "metadata": {},
   "source": [
    "#### Naive Bayes"
   ]
  },
  {
   "cell_type": "code",
   "execution_count": 10,
   "metadata": {},
   "outputs": [
    {
     "name": "stdout",
     "output_type": "stream",
     "text": [
      "Test log loss: 0.6895\n",
      "Partition 0/8\n",
      "\n",
      "Test log loss: 0.6895\n",
      "Partition 1/8\n",
      "\n",
      "Test log loss: 0.6895\n",
      "Partition 2/8\n",
      "\n",
      "Test log loss: 0.6895\n",
      "Partition 3/8\n",
      "\n",
      "Test log loss: 0.6895\n",
      "Partition 4/8\n",
      "\n",
      "Test log loss: 0.6895\n",
      "Partition 5/8\n",
      "\n",
      "Test log loss: 0.6895\n",
      "Partition 6/8\n",
      "\n",
      "Test log loss: 0.6895\n",
      "Partition 7/8\n",
      "\n",
      "Test log loss: 0.6895\n",
      "Partition 8/8\n",
      "\n",
      "CPU times: user 45.3 s, sys: 17.8 s, total: 1min 3s\n",
      "Wall time: 59.5 s\n"
     ]
    }
   ],
   "source": [
    "# this model is an example of an online naive bayes model without data standardization or PCA\n",
    "%time nb_ = online_learning(dask_dict, num_classes=2, model='nb', std_scale=0, pca=0)"
   ]
  },
  {
   "cell_type": "markdown",
   "metadata": {},
   "source": [
    "You may be wondering why the **Test log loss** value doesn't seem to change. It does. The reason it doesn't appear to change has to do with rounding. I specifically set the print out to only show the first four decimal places. Go ahead and change this value to see the very tiny changes that occur by iteration."
   ]
  },
  {
   "cell_type": "markdown",
   "metadata": {},
   "source": [
    "## Plot Log Loss on Test Set\n",
    "The **plot_function()** below is used to compare log loss on the test set for the different approaches: baseline, with data standardization, and with PCA."
   ]
  },
  {
   "cell_type": "code",
   "execution_count": 11,
   "metadata": {},
   "outputs": [],
   "source": [
    "def plot_function(log_loss_dict, path=None):\n",
    "    '''\n",
    "    Input:\n",
    "        log_loss_dict: a dictionary where the key is a name and the values are log loss values by iteration\n",
    "        path: string with path to where plot should be saved\n",
    "    Output:\n",
    "        plot with labeled axes and title showing difference between baseline, StandardScaler, and PCA approaches\n",
    "    '''\n",
    "    colors = ('darkred', 'darkblue', 'darkgreen', 'darkorange')\n",
    "    num_keys = len(log_loss_dict.keys())\n",
    "    counter, legend = 0, []\n",
    "    for k,v in log_loss_dict.items():\n",
    "        plt.plot(range(len(v)), v, '.-', color=colors[counter])\n",
    "        counter +=1\n",
    "        legend.append(k)\n",
    "    plt.xlabel('iteration #')\n",
    "    plt.ylabel('log loss value (test set)')\n",
    "    plt.title('log loss vs iteration #')\n",
    "    plt.legend(legend)\n",
    "    plt.grid()\n",
    "    if path is not None:\n",
    "        plt.savefig(path)"
   ]
  },
  {
   "cell_type": "code",
   "execution_count": 12,
   "metadata": {
    "collapsed": true
   },
   "outputs": [],
   "source": [
    "# create dictionary of different cases: baseline, data standardization, PCA, and Naive Bayes\n",
    "log_loss_dict = {'baseline lr':baseline, 'std lr':std, 'pca lr':pca, 'naive bayes':nb_}"
   ]
  },
  {
   "cell_type": "code",
   "execution_count": 13,
   "metadata": {},
   "outputs": [
    {
     "data": {
      "image/png": "[encoded data removed]",
      "text/plain": [
       "<matplotlib.figure.Figure at 0x103c715f8>"
      ]
     },
     "metadata": {},
     "output_type": "display_data"
    }
   ],
   "source": [
    "mypath = '/Users/davidziganto/Repositories/Out-of-Core-Computation/images/comparison.png'\n",
    "plot_function(log_loss_dict, path=mypath)"
   ]
  }
 ],
 "metadata": {
  "kernelspec": {
   "display_name": "py35",
   "language": "python",
   "name": "py35"
  },
  "language_info": {
   "codemirror_mode": {
    "name": "ipython",
    "version": 3
   },
   "file_extension": ".py",
   "mimetype": "text/x-python",
   "name": "python",
   "nbconvert_exporter": "python",
   "pygments_lexer": "ipython3",
   "version": "3.5.3"
  }
 },
 "nbformat": 4,
 "nbformat_minor": 2
}
