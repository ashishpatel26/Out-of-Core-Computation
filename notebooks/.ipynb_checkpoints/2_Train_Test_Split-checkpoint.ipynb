{
 "cells": [
  {
   "cell_type": "markdown",
   "metadata": {},
   "source": [
    "## Description\n",
    "\n",
    "This is the second of five notebooks documenting a pipelined approach to out-of-core computation using Dask and a Stochastic Gradient Descent classifier available in Scikit-learn. Specifically, this notebook will split the raw Higgs data into two datasets: train and test. The training data will be used to fit a model while the test set will be used to check how well the model generalizes. Please be aware that fitting a model and testing it will happen in another notebook."
   ]
  },
  {
   "cell_type": "markdown",
   "metadata": {},
   "source": [
    "## Libraries"
   ]
  },
  {
   "cell_type": "code",
   "execution_count": 1,
   "metadata": {
    "collapsed": true
   },
   "outputs": [],
   "source": [
    "import pandas as pd\n",
    "import sklearn\n",
    "from sklearn.model_selection import train_test_split"
   ]
  },
  {
   "cell_type": "markdown",
   "metadata": {},
   "source": [
    "## Versions"
   ]
  },
  {
   "cell_type": "code",
   "execution_count": 2,
   "metadata": {},
   "outputs": [
    {
     "name": "stdout",
     "output_type": "stream",
     "text": [
      "Pandas version: 0.20.1\n",
      "Sklearn version: 0.18.1\n"
     ]
    }
   ],
   "source": [
    "items = [(\"Pandas\", pd), (\"Sklearn\", sklearn)]\n",
    "for item in items:\n",
    "    print(item[0] + \" version: \" + str(item[1].__version__))"
   ]
  },
  {
   "cell_type": "markdown",
   "metadata": {},
   "source": [
    "## Get Data\n",
    "Make sure the **path** variable below is set correctly. Refer to the first notebook if you forgot where you saved the H5 file."
   ]
  },
  {
   "cell_type": "code",
   "execution_count": 3,
   "metadata": {
    "collapsed": true
   },
   "outputs": [],
   "source": [
    "path = '/Users/davidziganto/data/'\n",
    "X = pd.read_hdf(path + 'raw_HIGGS_data.h5', key='/a')\n",
    "y = X.pop('label')"
   ]
  },
  {
   "cell_type": "markdown",
   "metadata": {},
   "source": [
    "## Split Data"
   ]
  },
  {
   "cell_type": "code",
   "execution_count": 4,
   "metadata": {
    "collapsed": true
   },
   "outputs": [],
   "source": [
    "X_train, X_test, y_train, y_test = train_test_split(X, y, test_size=0.2, random_state=42)\n",
    "\n",
    "# Stitch training features and training target variable back into single DF\n",
    "training = pd.concat([X_train, y_train], axis=1)\n",
    "training.reset_index(drop=True, inplace=True)\n",
    "\n",
    "# Stitch test features and test target variable back into single DF\n",
    "test = pd.concat([X_test, y_test], axis=1)\n",
    "test.reset_index(drop=True, inplace=True)"
   ]
  },
  {
   "cell_type": "markdown",
   "metadata": {},
   "source": [
    "## Write Data To Disk\n",
    "There is nothing to change here unless you want to save this data to somewhere other than the path indicated above. If that's the case, just remove path in the code below and set the path appropriately inside of the quotes."
   ]
  },
  {
   "cell_type": "code",
   "execution_count": 5,
   "metadata": {
    "collapsed": true
   },
   "outputs": [],
   "source": [
    "training.to_hdf(path + 'raw_HIGGS_training_data.h5',\n",
    "                format='table',\n",
    "                key='/a',\n",
    "                mode='w',\n",
    "                append=False, \n",
    "                complevel=9, \n",
    "                complib='blosc',\n",
    "                fletcher32=True)"
   ]
  },
  {
   "cell_type": "code",
   "execution_count": 6,
   "metadata": {
    "collapsed": true
   },
   "outputs": [],
   "source": [
    "test.to_hdf(path + 'raw_HIGGS_test_data.h5',\n",
    "            format='table',\n",
    "            key='/a',\n",
    "            mode='w',\n",
    "            append=False, \n",
    "            complevel=9, \n",
    "            complib='blosc',\n",
    "            fletcher32=True)"
   ]
  }
 ],
 "metadata": {
  "kernelspec": {
   "display_name": "Python 3",
   "language": "python",
   "name": "python3"
  },
  "language_info": {
   "codemirror_mode": {
    "name": "ipython",
    "version": 3
   },
   "file_extension": ".py",
   "mimetype": "text/x-python",
   "name": "python",
   "nbconvert_exporter": "python",
   "pygments_lexer": "ipython3",
   "version": "3.5.3"
  }
 },
 "nbformat": 4,
 "nbformat_minor": 2
}
