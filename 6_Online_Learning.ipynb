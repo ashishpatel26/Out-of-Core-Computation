{
 "cells": [
  {
   "cell_type": "markdown",
   "metadata": {},
   "source": [
    "## Description"
   ]
  },
  {
   "cell_type": "code",
   "execution_count": null,
   "metadata": {
    "collapsed": true
   },
   "outputs": [],
   "source": []
  },
  {
   "cell_type": "markdown",
   "metadata": {},
   "source": [
    "## Libraries"
   ]
  },
  {
   "cell_type": "code",
   "execution_count": 1,
   "metadata": {
    "collapsed": true
   },
   "outputs": [],
   "source": [
    "%matplotlib inline\n",
    "import pandas as pd\n",
    "import numpy as np\n",
    "from sklearn.preprocessing import StandardScaler\n",
    "from sklearn.linear_model import SGDClassifier\n",
    "from sklearn.naive_bayes import BernoulliNB\n",
    "from sklearn.metrics import log_loss\n",
    "import dask.dataframe as dd\n",
    "import matplotlib.pyplot as plt"
   ]
  },
  {
   "cell_type": "markdown",
   "metadata": {},
   "source": [
    "## Versions"
   ]
  },
  {
   "cell_type": "code",
   "execution_count": null,
   "metadata": {
    "collapsed": true
   },
   "outputs": [],
   "source": []
  },
  {
   "cell_type": "markdown",
   "metadata": {},
   "source": [
    "## Get Data"
   ]
  },
  {
   "cell_type": "code",
   "execution_count": 2,
   "metadata": {
    "collapsed": true
   },
   "outputs": [],
   "source": [
    "path = '/Users/davidziganto/data/'\n",
    "\n",
    "#X_train = pd.read_hdf(path + 'raw_HIGGS_training_data.h5', 'table')\n",
    "#y_train = X_train.pop('label')\n",
    "\n",
    "X_test = pd.read_hdf(path + 'raw_HIGGS_test_data.h5', 'table')\n",
    "y_test = X_test.pop('label')"
   ]
  },
  {
   "cell_type": "markdown",
   "metadata": {},
   "source": [
    "#### Dask"
   ]
  },
  {
   "cell_type": "code",
   "execution_count": 3,
   "metadata": {},
   "outputs": [],
   "source": [
    "df = dd.read_hdf('/Users/davidziganto/data/for_iterating/*.h5', key='/*')"
   ]
  },
  {
   "cell_type": "code",
   "execution_count": 4,
   "metadata": {},
   "outputs": [],
   "source": [
    "dask_dict = {i: df.get_partition(i) for i in range(df.npartitions)}"
   ]
  },
  {
   "cell_type": "markdown",
   "metadata": {},
   "source": [
    "## Online Learning"
   ]
  },
  {
   "cell_type": "markdown",
   "metadata": {},
   "source": [
    "#### Instantiate Models"
   ]
  },
  {
   "cell_type": "code",
   "execution_count": 5,
   "metadata": {
    "collapsed": true
   },
   "outputs": [],
   "source": [
    "nb = BernoulliNB(alpha=1.0, binarize=0.0, fit_prior=True, class_prior=None)\n",
    "\n",
    "lr = SGDClassifier(loss='log', \n",
    "                   penalty='elasticnet', \n",
    "                   alpha=0.01, \n",
    "                   l1_ratio=0.5, \n",
    "                   fit_intercept=True, \n",
    "                   n_iter=1, \n",
    "                   shuffle=False, \n",
    "                   verbose=1, \n",
    "                   epsilon=None, \n",
    "                   n_jobs=-1, \n",
    "                   random_state=123, \n",
    "                   learning_rate='optimal',\n",
    "                   eta0=0.0, \n",
    "                   power_t=0.5, \n",
    "                   class_weight=None,\n",
    "                   warm_start=False, \n",
    "                   average=True)"
   ]
  },
  {
   "cell_type": "markdown",
   "metadata": {},
   "source": [
    "#### Mini-Batch (by partition)"
   ]
  },
  {
   "cell_type": "code",
   "execution_count": 6,
   "metadata": {},
   "outputs": [
    {
     "name": "stdout",
     "output_type": "stream",
     "text": [
      "-- Epoch 1\n",
      "Norm: 1.83, NNZs: 16, Bias: 0.117786, T: 8800000, Avg. loss: 0.642882\n",
      "Total training time: 3.75 seconds.\n",
      "Test log loss: 1.6782\n",
      "\n",
      "\n",
      "-- Epoch 1\n",
      "Norm: 1.42, NNZs: 16, Bias: 0.119119, T: 8800000, Avg. loss: 0.642745\n",
      "Total training time: 2.76 seconds.\n",
      "Test log loss: 1.1093\n",
      "\n",
      "\n",
      "-- Epoch 1\n",
      "Norm: 1.27, NNZs: 16, Bias: 0.119668, T: 8800000, Avg. loss: 0.642781\n",
      "Total training time: 3.65 seconds.\n",
      "Test log loss: 0.9194\n",
      "\n",
      "\n",
      "-- Epoch 1\n",
      "Norm: 1.18, NNZs: 16, Bias: 0.119823, T: 8800000, Avg. loss: 0.642817\n",
      "Total training time: 2.43 seconds.\n",
      "Test log loss: 0.8297\n",
      "\n",
      "\n",
      "-- Epoch 1\n",
      "Norm: 1.13, NNZs: 16, Bias: 0.119487, T: 8800000, Avg. loss: 0.642853\n",
      "Total training time: 3.86 seconds.\n",
      "Test log loss: 0.7795\n",
      "\n",
      "\n",
      "-- Epoch 1\n",
      "Norm: 1.09, NNZs: 16, Bias: 0.118557, T: 8800000, Avg. loss: 0.642889\n",
      "Total training time: 3.62 seconds.\n",
      "Test log loss: 0.7483\n",
      "\n",
      "\n",
      "-- Epoch 1\n",
      "Norm: 1.06, NNZs: 16, Bias: 0.117056, T: 8800000, Avg. loss: 0.642925\n",
      "Total training time: 4.54 seconds.\n",
      "Test log loss: 0.7274\n",
      "\n",
      "\n",
      "-- Epoch 1\n",
      "Norm: 1.04, NNZs: 16, Bias: 0.115085, T: 8800000, Avg. loss: 0.642961\n",
      "Total training time: 4.00 seconds.\n",
      "Test log loss: 0.7127\n",
      "\n",
      "\n",
      "-- Epoch 1\n",
      "Norm: 1.02, NNZs: 16, Bias: 0.112767, T: 8800000, Avg. loss: 0.642996\n",
      "Total training time: 2.41 seconds.\n",
      "Test log loss: 0.7018\n",
      "\n",
      "\n",
      "-- Epoch 1\n",
      "Norm: 1.01, NNZs: 16, Bias: 0.110217, T: 8800000, Avg. loss: 0.643031\n",
      "Total training time: 3.66 seconds.\n",
      "Test log loss: 0.6936\n",
      "\n",
      "\n"
     ]
    }
   ],
   "source": [
    "# Find a better way to separate X_train and y-train!!!\n",
    "\n",
    "ss = StandardScaler()\n",
    "logloss = []\n",
    "for k,v in dask_dict.items():\n",
    "    X_train = df.loc[:, v.columns != 'label']\n",
    "    y_train = df.loc[:, 'label']\n",
    "    ss.partial_fit(X_train)\n",
    "    lr.partial_fit(ss.transform(X_train), y_train, classes=range(2))\n",
    "    print('Test log loss: %.4f' % log_loss(y_test, lr.predict_proba(ss.transform(X_test))))\n",
    "    logloss.append(log_loss(y_test, lr.predict_proba(ss.transform(X_test))))\n",
    "    print('\\n')"
   ]
  },
  {
   "cell_type": "markdown",
   "metadata": {},
   "source": [
    "## Plot Log Loss on Test Set"
   ]
  },
  {
   "cell_type": "code",
   "execution_count": 21,
   "metadata": {},
   "outputs": [
    {
     "data": {
      "image/png": "[encoded data removed]",
      "text/plain": [
       "<matplotlib.figure.Figure at 0x13bc48f60>"
      ]
     },
     "metadata": {},
     "output_type": "display_data"
    }
   ],
   "source": [
    "plt.plot(range(10), logloss, '.-')\n",
    "plt.xlabel('iteration #')\n",
    "plt.ylabel('log loss value (test set)')\n",
    "plt.ylim(0,1.8)\n",
    "plt.title('log loss vs iteration #');"
   ]
  },
  {
   "cell_type": "code",
   "execution_count": null,
   "metadata": {
    "collapsed": true
   },
   "outputs": [],
   "source": []
  },
  {
   "cell_type": "markdown",
   "metadata": {},
   "source": [
    "# To do\n",
    "\n",
    "* find more efficient way to split features and target\n",
    "* get pipeline working with single large file\n",
    "* add PCA\n",
    "* optimize for performance"
   ]
  },
  {
   "cell_type": "code",
   "execution_count": null,
   "metadata": {
    "collapsed": true
   },
   "outputs": [],
   "source": []
  }
 ],
 "metadata": {
  "kernelspec": {
   "display_name": "py35",
   "language": "python",
   "name": "py35"
  },
  "language_info": {
   "codemirror_mode": {
    "name": "ipython",
    "version": 3
   },
   "file_extension": ".py",
   "mimetype": "text/x-python",
   "name": "python",
   "nbconvert_exporter": "python",
   "pygments_lexer": "ipython3",
   "version": "3.5.3"
  }
 },
 "nbformat": 4,
 "nbformat_minor": 2
}
