{
 "cells": [
  {
   "cell_type": "markdown",
   "metadata": {},
   "source": [
    "## Description"
   ]
  },
  {
   "cell_type": "code",
   "execution_count": null,
   "metadata": {
    "collapsed": true
   },
   "outputs": [],
   "source": []
  },
  {
   "cell_type": "markdown",
   "metadata": {},
   "source": [
    "## Libraries"
   ]
  },
  {
   "cell_type": "code",
   "execution_count": 1,
   "metadata": {
    "collapsed": true
   },
   "outputs": [],
   "source": [
    "%matplotlib inline\n",
    "import pandas as pd\n",
    "import numpy as np\n",
    "from sklearn.preprocessing import StandardScaler\n",
    "from sklearn.linear_model import SGDClassifier\n",
    "from sklearn.naive_bayes import BernoulliNB\n",
    "from sklearn.decomposition import IncrementalPCA\n",
    "from sklearn.metrics import log_loss\n",
    "import dask.dataframe as dd\n",
    "import matplotlib.pyplot as plt"
   ]
  },
  {
   "cell_type": "markdown",
   "metadata": {},
   "source": [
    "## Versions"
   ]
  },
  {
   "cell_type": "code",
   "execution_count": null,
   "metadata": {
    "collapsed": true
   },
   "outputs": [],
   "source": []
  },
  {
   "cell_type": "markdown",
   "metadata": {},
   "source": [
    "## Get Data"
   ]
  },
  {
   "cell_type": "code",
   "execution_count": 2,
   "metadata": {
    "collapsed": true
   },
   "outputs": [],
   "source": [
    "path = '/Users/davidziganto/data/'\n",
    "\n",
    "#X_train = pd.read_hdf(path + 'raw_HIGGS_training_data.h5', 'table')\n",
    "#y_train = X_train.pop('label')\n",
    "\n",
    "X_test = pd.read_hdf(path + 'raw_HIGGS_test_data.h5', key='/a')\n",
    "y_test = X_test.pop('label')"
   ]
  },
  {
   "cell_type": "markdown",
   "metadata": {},
   "source": [
    "#### Dask"
   ]
  },
  {
   "cell_type": "code",
   "execution_count": 3,
   "metadata": {
    "collapsed": true
   },
   "outputs": [],
   "source": [
    "# Multiple files\n",
    "#df = dd.read_hdf(path + 'for_iterating/*.h5', key='/*')\n",
    "\n",
    "# Single large file\n",
    "df = dd.read_hdf(path + 'raw_HIGGS_training_data.h5', key='/a')"
   ]
  },
  {
   "cell_type": "code",
   "execution_count": 4,
   "metadata": {
    "collapsed": true
   },
   "outputs": [],
   "source": [
    "# create dictionary for online_learning function\n",
    "dask_dict = {i: df.get_partition(i) for i in range(df.npartitions)}"
   ]
  },
  {
   "cell_type": "markdown",
   "metadata": {},
   "source": [
    "## Online Learning"
   ]
  },
  {
   "cell_type": "markdown",
   "metadata": {},
   "source": [
    "#### Instantiate Models"
   ]
  },
  {
   "cell_type": "markdown",
   "metadata": {},
   "source": [
    "#### Mini-Batch (by partition)"
   ]
  },
  {
   "cell_type": "code",
   "execution_count": 5,
   "metadata": {
    "collapsed": true
   },
   "outputs": [],
   "source": [
    "def online_learning(dask_dict, num_classes, model='lr', std_scale=0, pca=0):\n",
    "    '''\n",
    "    Inputs:\n",
    "        dask_dict: dictionary of index as key and dask partition data as value\n",
    "        num_classes: int denoting total number of classes present in target variable\n",
    "        model: string denoting which model to use, 'lr' for logistic regression or 'nb' for naive bayes\n",
    "        std_scale: flag variable (0,1) allowing user to turn on/off StandardScaler\n",
    "        pca: flag variable (0,1) allowing user to turn on/off Incremental PCA\n",
    "    Output:\n",
    "        logloss: list of logloss values achieved during each iteration\n",
    "    '''\n",
    "    # Instantiate Models\n",
    "    if model == 'nb':\n",
    "        model = BernoulliNB(alpha=1.0, binarize=0.0, fit_prior=True, class_prior=None)\n",
    "    elif model == 'lr':\n",
    "        model = SGDClassifier(loss='log', \n",
    "                              penalty='elasticnet', \n",
    "                              alpha=0.01, \n",
    "                              l1_ratio=0.5,\n",
    "                              fit_intercept=True, \n",
    "                              n_iter=1, \n",
    "                              shuffle=False, \n",
    "                              verbose=1, \n",
    "                              epsilon=None,\n",
    "                              n_jobs=-1, \n",
    "                              random_state=123,\n",
    "                              learning_rate='optimal',\n",
    "                              eta0=0.0, \n",
    "                              power_t=0.5,\n",
    "                              class_weight=None,\n",
    "                              warm_start=False, \n",
    "                              average=True)\n",
    "    else:\n",
    "        raise Exception('Choose either \"lr\" or \"nb\" for model')\n",
    "        \n",
    "    # Setup\n",
    "    logloss = []\n",
    "    ss = StandardScaler()\n",
    "    ipca = IncrementalPCA(n_components=10, whiten=True, copy=True, batch_size=None)\n",
    "    counter, max_k = 0, max(dask_dict.keys())  ## for progress updates (partition numbers)\n",
    "    for k,v in dask_dict.items():\n",
    "        X_train = df.loc[:, v.columns != 'label']\n",
    "        y_train = df.loc[:, 'label']\n",
    "        if std_scale==0 and pca==0:\n",
    "            model.partial_fit(X_train, y_train, classes=range(num_classes))\n",
    "            proba = model.predict_proba(X_test)\n",
    "            logloss.append(log_loss(y_test, proba))\n",
    "            print('Test log loss: %.4f' % log_loss(y_test, proba))\n",
    "            print('Partition {0}/{1}\\n'.format(counter, max_k))\n",
    "        elif std_scale and pca==0:\n",
    "            ss.partial_fit(X_train)\n",
    "            model.partial_fit(ss.transform(X_train), y_train, classes=range(num_classes))\n",
    "            proba = model.predict_proba(ss.transform(X_test))\n",
    "            logloss.append(log_loss(y_test, proba))\n",
    "            print('Test log loss: %.4f' % log_loss(y_test, proba))\n",
    "            print('Partition {0}/{1}\\n'.format(counter, max_k))\n",
    "        elif std_scale==0 and pca:\n",
    "            raise Exception('You have to set std_scale=1 for PCA to work')\n",
    "        else: \n",
    "            ss.partial_fit(X_train)\n",
    "            ipca.partial_fit(ss.transform(X_train))\n",
    "            model.partial_fit(ipca.transform(X_train), y_train, classes=range(num_classes))\n",
    "            proba = model.predict_proba(ipca.transform(ss.transform(X_test)))\n",
    "            logloss.append(log_loss(y_test, proba))\n",
    "            print('Test log loss: %.4f' % log_loss(y_test, proba))\n",
    "            print('Partition {0}/{1}\\n'.format(counter, max_k))\n",
    "        counter += 1\n",
    "    return logloss"
   ]
  },
  {
   "cell_type": "markdown",
   "metadata": {},
   "source": [
    "#### Logistic Regression"
   ]
  },
  {
   "cell_type": "code",
   "execution_count": 6,
   "metadata": {},
   "outputs": [
    {
     "name": "stdout",
     "output_type": "stream",
     "text": [
      "-- Epoch 1\n",
      "Norm: 1.88, NNZs: 14, Bias: 0.858057, T: 8800000, Avg. loss: 0.656561\n",
      "Total training time: 2.64 seconds.\n",
      "Test log loss: 1.5248\n",
      "Partition 0/8\n",
      "\n",
      "-- Epoch 1\n",
      "Norm: 1.52, NNZs: 13, Bias: 0.335998, T: 8800000, Avg. loss: 0.656892\n",
      "Total training time: 2.71 seconds.\n",
      "Test log loss: 1.0378\n",
      "Partition 1/8\n",
      "\n",
      "-- Epoch 1\n",
      "Norm: 1.39, NNZs: 13, Bias: 0.205140, T: 8800000, Avg. loss: 0.656677\n",
      "Total training time: 2.73 seconds.\n",
      "Test log loss: 0.8802\n",
      "Partition 2/8\n",
      "\n",
      "-- Epoch 1\n",
      "Norm: 1.31, NNZs: 13, Bias: 0.146430, T: 8800000, Avg. loss: 0.656572\n",
      "Total training time: 3.04 seconds.\n",
      "Test log loss: 0.8071\n",
      "Partition 3/8\n",
      "\n",
      "-- Epoch 1\n",
      "Norm: 1.26, NNZs: 13, Bias: 0.113689, T: 8800000, Avg. loss: 0.656507\n",
      "Total training time: 5.03 seconds.\n",
      "Test log loss: 0.7666\n",
      "Partition 4/8\n",
      "\n",
      "-- Epoch 1\n",
      "Norm: 1.22, NNZs: 13, Bias: 0.092890, T: 8800000, Avg. loss: 0.656465\n",
      "Total training time: 3.89 seconds.\n",
      "Test log loss: 0.7415\n",
      "Partition 5/8\n",
      "\n",
      "-- Epoch 1\n",
      "Norm: 1.20, NNZs: 13, Bias: 0.078519, T: 8800000, Avg. loss: 0.656435\n",
      "Total training time: 2.69 seconds.\n",
      "Test log loss: 0.7248\n",
      "Partition 6/8\n",
      "\n",
      "-- Epoch 1\n",
      "Norm: 1.18, NNZs: 13, Bias: 0.067998, T: 8800000, Avg. loss: 0.656413\n",
      "Total training time: 4.15 seconds.\n",
      "Test log loss: 0.7130\n",
      "Partition 7/8\n",
      "\n",
      "-- Epoch 1\n",
      "Norm: 1.16, NNZs: 13, Bias: 0.059963, T: 8800000, Avg. loss: 0.656396\n",
      "Total training time: 5.45 seconds.\n",
      "Test log loss: 0.7043\n",
      "Partition 8/8\n",
      "\n"
     ]
    }
   ],
   "source": [
    "baseline = online_learning(dask_dict, num_classes=2, model='lr', std_scale=0, pca=0)"
   ]
  },
  {
   "cell_type": "code",
   "execution_count": 7,
   "metadata": {},
   "outputs": [
    {
     "name": "stdout",
     "output_type": "stream",
     "text": [
      "-- Epoch 1\n",
      "Norm: 1.83, NNZs: 16, Bias: 0.117786, T: 8800000, Avg. loss: 0.642882\n",
      "Total training time: 2.57 seconds.\n",
      "Test log loss: 1.6782\n",
      "Partition 0/8\n",
      "\n",
      "-- Epoch 1\n",
      "Norm: 1.42, NNZs: 16, Bias: 0.119119, T: 8800000, Avg. loss: 0.642745\n",
      "Total training time: 4.15 seconds.\n",
      "Test log loss: 1.1093\n",
      "Partition 1/8\n",
      "\n",
      "-- Epoch 1\n",
      "Norm: 1.27, NNZs: 16, Bias: 0.119668, T: 8800000, Avg. loss: 0.642781\n",
      "Total training time: 3.59 seconds.\n",
      "Test log loss: 0.9194\n",
      "Partition 2/8\n",
      "\n",
      "-- Epoch 1\n",
      "Norm: 1.18, NNZs: 16, Bias: 0.119823, T: 8800000, Avg. loss: 0.642817\n",
      "Total training time: 3.93 seconds.\n",
      "Test log loss: 0.8297\n",
      "Partition 3/8\n",
      "\n",
      "-- Epoch 1\n",
      "Norm: 1.13, NNZs: 16, Bias: 0.119487, T: 8800000, Avg. loss: 0.642853\n",
      "Total training time: 3.71 seconds.\n",
      "Test log loss: 0.7795\n",
      "Partition 4/8\n",
      "\n",
      "-- Epoch 1\n",
      "Norm: 1.09, NNZs: 16, Bias: 0.118557, T: 8800000, Avg. loss: 0.642889\n",
      "Total training time: 2.39 seconds.\n",
      "Test log loss: 0.7483\n",
      "Partition 5/8\n",
      "\n",
      "-- Epoch 1\n",
      "Norm: 1.06, NNZs: 16, Bias: 0.117056, T: 8800000, Avg. loss: 0.642925\n",
      "Total training time: 4.18 seconds.\n",
      "Test log loss: 0.7274\n",
      "Partition 6/8\n",
      "\n",
      "-- Epoch 1\n",
      "Norm: 1.04, NNZs: 16, Bias: 0.115085, T: 8800000, Avg. loss: 0.642961\n",
      "Total training time: 3.64 seconds.\n",
      "Test log loss: 0.7127\n",
      "Partition 7/8\n",
      "\n",
      "-- Epoch 1\n",
      "Norm: 1.02, NNZs: 16, Bias: 0.112767, T: 8800000, Avg. loss: 0.642996\n",
      "Total training time: 2.39 seconds.\n",
      "Test log loss: 0.7018\n",
      "Partition 8/8\n",
      "\n"
     ]
    }
   ],
   "source": [
    "std = online_learning(dask_dict, num_classes=2, std_scale=1, pca=0)"
   ]
  },
  {
   "cell_type": "code",
   "execution_count": 8,
   "metadata": {},
   "outputs": [
    {
     "name": "stdout",
     "output_type": "stream",
     "text": [
      "-- Epoch 1\n",
      "Norm: 0.75, NNZs: 6, Bias: 0.320957, T: 8800000, Avg. loss: 0.686357\n",
      "Total training time: 1.23 seconds.\n",
      "Test log loss: 1.2751\n",
      "Partition 0/8\n",
      "\n",
      "-- Epoch 1\n",
      "Norm: 0.47, NNZs: 6, Bias: 0.213794, T: 8800000, Avg. loss: 0.687197\n",
      "Total training time: 1.21 seconds.\n",
      "Test log loss: 0.9373\n",
      "Partition 1/8\n",
      "\n",
      "-- Epoch 1\n",
      "Norm: 0.38, NNZs: 6, Bias: 0.152918, T: 8800000, Avg. loss: 0.687533\n",
      "Total training time: 1.23 seconds.\n",
      "Test log loss: 0.8325\n",
      "Partition 2/8\n",
      "\n",
      "-- Epoch 1\n",
      "Norm: 0.34, NNZs: 6, Bias: 0.115566, T: 8800000, Avg. loss: 0.687696\n",
      "Total training time: 1.27 seconds.\n",
      "Test log loss: 0.7852\n",
      "Partition 3/8\n",
      "\n",
      "-- Epoch 1\n",
      "Norm: 0.31, NNZs: 5, Bias: 0.103842, T: 8800000, Avg. loss: 0.687761\n",
      "Total training time: 1.26 seconds.\n",
      "Test log loss: 0.7590\n",
      "Partition 4/8\n",
      "\n",
      "-- Epoch 1\n",
      "Norm: 0.29, NNZs: 4, Bias: 0.099056, T: 8800000, Avg. loss: 0.687802\n",
      "Total training time: 1.26 seconds.\n",
      "Test log loss: 0.7425\n",
      "Partition 5/8\n",
      "\n",
      "-- Epoch 1\n",
      "Norm: 0.28, NNZs: 4, Bias: 0.095422, T: 8800000, Avg. loss: 0.687829\n",
      "Total training time: 1.26 seconds.\n",
      "Test log loss: 0.7313\n",
      "Partition 6/8\n",
      "\n",
      "-- Epoch 1\n",
      "Norm: 0.27, NNZs: 4, Bias: 0.091657, T: 8800000, Avg. loss: 0.687852\n",
      "Total training time: 1.25 seconds.\n",
      "Test log loss: 0.7234\n",
      "Partition 7/8\n",
      "\n",
      "-- Epoch 1\n",
      "Norm: 0.27, NNZs: 4, Bias: 0.087861, T: 8800000, Avg. loss: 0.687873\n",
      "Total training time: 1.24 seconds.\n",
      "Test log loss: 0.7175\n",
      "Partition 8/8\n",
      "\n"
     ]
    }
   ],
   "source": [
    "pca = online_learning(dask_dict, num_classes=2, model='lr', std_scale=1, pca=1)"
   ]
  },
  {
   "cell_type": "markdown",
   "metadata": {},
   "source": [
    "#### Naive Bayes"
   ]
  },
  {
   "cell_type": "code",
   "execution_count": 9,
   "metadata": {},
   "outputs": [
    {
     "name": "stdout",
     "output_type": "stream",
     "text": [
      "Test log loss: 0.6502\n",
      "Partition 0/8\n",
      "\n",
      "Test log loss: 0.6502\n",
      "Partition 1/8\n",
      "\n",
      "Test log loss: 0.6502\n",
      "Partition 2/8\n",
      "\n",
      "Test log loss: 0.6502\n",
      "Partition 3/8\n",
      "\n",
      "Test log loss: 0.6502\n",
      "Partition 4/8\n",
      "\n",
      "Test log loss: 0.6502\n",
      "Partition 5/8\n",
      "\n",
      "Test log loss: 0.6502\n",
      "Partition 6/8\n",
      "\n",
      "Test log loss: 0.6502\n",
      "Partition 7/8\n",
      "\n",
      "Test log loss: 0.6502\n",
      "Partition 8/8\n",
      "\n"
     ]
    }
   ],
   "source": [
    "nb_std = online_learning(dask_dict, num_classes=2, model='nb', std_scale=1, pca=0)"
   ]
  },
  {
   "cell_type": "markdown",
   "metadata": {},
   "source": [
    "## Plot Log Loss on Test Set"
   ]
  },
  {
   "cell_type": "code",
   "execution_count": 10,
   "metadata": {
    "collapsed": true
   },
   "outputs": [],
   "source": [
    "def plot_function(log_loss_dict):\n",
    "    '''\n",
    "    Input:\n",
    "        log_loss_dict: a dictionary where the key is a name and the values are log loss values by iteration\n",
    "    Output:\n",
    "        plot with labeled axes and title showing difference between baseline, StandardScaler, and PCA approaches\n",
    "    '''\n",
    "    colors = ('darkred', 'darkblue', 'darkgreen')\n",
    "    num_keys = len(log_loss_dict.keys())\n",
    "    counter, legend = 0, []\n",
    "    for k,v in log_loss_dict.items():\n",
    "        plt.plot(range(len(v)), v, '.-', color=colors[counter])\n",
    "        counter +=1\n",
    "        legend.append(k)\n",
    "    plt.xlabel('iteration #')\n",
    "    plt.ylabel('log loss value (test set)')\n",
    "    plt.title('log loss vs iteration #')\n",
    "    plt.legend(legend)"
   ]
  },
  {
   "cell_type": "code",
   "execution_count": 11,
   "metadata": {
    "collapsed": true
   },
   "outputs": [],
   "source": [
    "log_loss_dict = {'baseline':baseline, 'standardized':std, 'pca':pca}"
   ]
  },
  {
   "cell_type": "code",
   "execution_count": 12,
   "metadata": {},
   "outputs": [
    {
     "data": {
      "image/png": "[encoded data removed]",
      "text/plain": [
       "<matplotlib.figure.Figure at 0x10394a400>"
      ]
     },
     "metadata": {},
     "output_type": "display_data"
    }
   ],
   "source": [
    "plot_function(log_loss_dict)"
   ]
  },
  {
   "cell_type": "markdown",
   "metadata": {},
   "source": [
    "# To do\n",
    "\n",
    "* multiple passes over shuffled datasets\n",
    "* cleanup code\n",
    "* optimize for performance\n",
    "* source > 16GB dataset\n",
    "* scale on AWS"
   ]
  }
 ],
 "metadata": {
  "kernelspec": {
   "display_name": "py35",
   "language": "python",
   "name": "py35"
  },
  "language_info": {
   "codemirror_mode": {
    "name": "ipython",
    "version": 3
   },
   "file_extension": ".py",
   "mimetype": "text/x-python",
   "name": "python",
   "nbconvert_exporter": "python",
   "pygments_lexer": "ipython3",
   "version": "3.5.3"
  }
 },
 "nbformat": 4,
 "nbformat_minor": 2
}
